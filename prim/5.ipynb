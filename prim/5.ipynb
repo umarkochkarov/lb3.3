{
 "cells": [
  {
   "cell_type": "markdown",
   "id": "6437d508",
   "metadata": {},
   "source": [
    "# Пример 5\n",
    "### Определитель матрицы"
   ]
  },
  {
   "cell_type": "code",
   "execution_count": 1,
   "id": "b474669a",
   "metadata": {},
   "outputs": [],
   "source": [
    "import numpy as np"
   ]
  },
  {
   "cell_type": "markdown",
   "id": "b2a42d4c",
   "metadata": {},
   "source": [
    "Свойство 1. Определитель матрицы остается неизменным при ее транспонировании:"
   ]
  },
  {
   "cell_type": "code",
   "execution_count": 2,
   "id": "5e436354",
   "metadata": {},
   "outputs": [
    {
     "name": "stdout",
     "output_type": "stream",
     "text": [
      "[[-4 -1  2]\n",
      " [10  4 -1]\n",
      " [ 8  3  1]]\n"
     ]
    }
   ],
   "source": [
    "A = np.matrix('-4 -1 2; 10 4 -1; 8 3 1')\n",
    "print(A)"
   ]
  },
  {
   "cell_type": "code",
   "execution_count": 3,
   "id": "3f413d56",
   "metadata": {},
   "outputs": [
    {
     "name": "stdout",
     "output_type": "stream",
     "text": [
      "[[-4 10  8]\n",
      " [-1  4  3]\n",
      " [ 2 -1  1]]\n"
     ]
    }
   ],
   "source": [
    "print(A.T)"
   ]
  },
  {
   "cell_type": "code",
   "execution_count": 4,
   "id": "ffe447b2",
   "metadata": {},
   "outputs": [
    {
     "name": "stdout",
     "output_type": "stream",
     "text": [
      "-14.0\n"
     ]
    }
   ],
   "source": [
    "det_A = round(np.linalg.det(A), 3)\n",
    "det_A_t = round(np.linalg.det(A.T), 3)\n",
    "print(det_A)"
   ]
  },
  {
   "cell_type": "code",
   "execution_count": 5,
   "id": "8488f835",
   "metadata": {},
   "outputs": [
    {
     "name": "stdout",
     "output_type": "stream",
     "text": [
      "-14.0\n"
     ]
    }
   ],
   "source": [
    "print(det_A_t)"
   ]
  },
  {
   "cell_type": "markdown",
   "id": "ddf2d78b",
   "metadata": {},
   "source": [
    "Свойство 2. Если у матрицы есть строка или столбец, состоящие из нулей, то определитель такой матрицы равен нулю:"
   ]
  },
  {
   "cell_type": "code",
   "execution_count": 6,
   "id": "d8d1b0ac",
   "metadata": {},
   "outputs": [
    {
     "name": "stdout",
     "output_type": "stream",
     "text": [
      "[[-4 -1  2]\n",
      " [ 0  0  0]\n",
      " [ 8  3  1]]\n"
     ]
    }
   ],
   "source": [
    "A = np.matrix('-4 -1 2; 0 0 0; 8 3 1')\n",
    "print(A)"
   ]
  },
  {
   "cell_type": "code",
   "execution_count": 7,
   "id": "dc9d319f",
   "metadata": {},
   "outputs": [
    {
     "data": {
      "text/plain": [
       "0.0"
      ]
     },
     "execution_count": 7,
     "metadata": {},
     "output_type": "execute_result"
    }
   ],
   "source": [
    "np.linalg.det(A)"
   ]
  },
  {
   "cell_type": "markdown",
   "id": "5459ef16",
   "metadata": {},
   "source": [
    "Свойство 3. При перестановке строк матрицы знак ее определителя меняется на противоположный:"
   ]
  },
  {
   "cell_type": "code",
   "execution_count": 8,
   "id": "ba643054",
   "metadata": {},
   "outputs": [
    {
     "name": "stdout",
     "output_type": "stream",
     "text": [
      "[[-4 -1  2]\n",
      " [10  4 -1]\n",
      " [ 8  3  1]]\n"
     ]
    }
   ],
   "source": [
    "A = np.matrix('-4 -1 2; 10 4 -1; 8 3 1')\n",
    "print(A)"
   ]
  },
  {
   "cell_type": "code",
   "execution_count": 9,
   "id": "3afc9435",
   "metadata": {},
   "outputs": [
    {
     "name": "stdout",
     "output_type": "stream",
     "text": [
      "[[10  4 -1]\n",
      " [-4 -1  2]\n",
      " [ 8  3  1]]\n"
     ]
    }
   ],
   "source": [
    "B = np.matrix('10 4 -1; -4 -1 2; 8 3 1')\n",
    "print(B)"
   ]
  },
  {
   "cell_type": "code",
   "execution_count": 10,
   "id": "bc935594",
   "metadata": {},
   "outputs": [
    {
     "data": {
      "text/plain": [
       "-14.0"
      ]
     },
     "execution_count": 10,
     "metadata": {},
     "output_type": "execute_result"
    }
   ],
   "source": [
    "round(np.linalg.det(A), 3)"
   ]
  },
  {
   "cell_type": "code",
   "execution_count": 11,
   "id": "4a6809ef",
   "metadata": {},
   "outputs": [
    {
     "data": {
      "text/plain": [
       "14.0"
      ]
     },
     "execution_count": 11,
     "metadata": {},
     "output_type": "execute_result"
    }
   ],
   "source": [
    "round(np.linalg.det(B), 3)"
   ]
  },
  {
   "cell_type": "markdown",
   "id": "85834ba1",
   "metadata": {},
   "source": [
    "Свойство 4. Если у матрицы есть две одинаковые строки, то ее определитель равен нулю:"
   ]
  },
  {
   "cell_type": "code",
   "execution_count": 12,
   "id": "275782fa",
   "metadata": {},
   "outputs": [
    {
     "name": "stdout",
     "output_type": "stream",
     "text": [
      "[[-4 -1  2]\n",
      " [-4 -1  2]\n",
      " [ 8  3  1]]\n"
     ]
    }
   ],
   "source": [
    "A = np.matrix('-4 -1 2; -4 -1 2; 8 3 1')\n",
    "print(A)"
   ]
  },
  {
   "cell_type": "code",
   "execution_count": 13,
   "id": "5d55c1eb",
   "metadata": {},
   "outputs": [
    {
     "data": {
      "text/plain": [
       "0.0"
      ]
     },
     "execution_count": 13,
     "metadata": {},
     "output_type": "execute_result"
    }
   ],
   "source": [
    "np.linalg.det(A)"
   ]
  },
  {
   "cell_type": "markdown",
   "id": "19afa3eb",
   "metadata": {},
   "source": [
    "Свойство 5. Если все элементы строки или столбца матрицы умножить на какое-то число, то и определитель будет умножен на это число:"
   ]
  },
  {
   "cell_type": "code",
   "execution_count": 14,
   "id": "6d993895",
   "metadata": {},
   "outputs": [
    {
     "name": "stdout",
     "output_type": "stream",
     "text": [
      "[[-4 -1  2]\n",
      " [10  4 -1]\n",
      " [ 8  3  1]]\n"
     ]
    }
   ],
   "source": [
    "A = np.matrix('-4 -1 2; 10 4 -1; 8 3 1')\n",
    "print(A)"
   ]
  },
  {
   "cell_type": "code",
   "execution_count": 15,
   "id": "df7df69b",
   "metadata": {},
   "outputs": [
    {
     "name": "stdout",
     "output_type": "stream",
     "text": [
      "[[-4 -1  2]\n",
      " [10  4 -1]\n",
      " [16  6  2]]\n"
     ]
    }
   ],
   "source": [
    "k = 2\n",
    "B = A.copy()\n",
    "B[2, :] = k * B[2, :]\n",
    "print(B)"
   ]
  },
  {
   "cell_type": "code",
   "execution_count": 16,
   "id": "876be072",
   "metadata": {},
   "outputs": [
    {
     "data": {
      "text/plain": [
       "-28.0"
      ]
     },
     "execution_count": 16,
     "metadata": {},
     "output_type": "execute_result"
    }
   ],
   "source": [
    "det_A = round(np.linalg.det(A), 3)\n",
    "det_B = round(np.linalg.det(B), 3)\n",
    "det_A * k"
   ]
  },
  {
   "cell_type": "code",
   "execution_count": 17,
   "id": "1f2a5a9e",
   "metadata": {},
   "outputs": [
    {
     "data": {
      "text/plain": [
       "-28.0"
      ]
     },
     "execution_count": 17,
     "metadata": {},
     "output_type": "execute_result"
    }
   ],
   "source": [
    "det_B"
   ]
  },
  {
   "cell_type": "markdown",
   "id": "2f7df701",
   "metadata": {},
   "source": [
    "Свойство 6. Если все элементы строки или столбца можно представить как сумму двух слагаемых, то определитель такой матрицы равен сумме определителей двух соответствующих матриц:"
   ]
  },
  {
   "cell_type": "code",
   "execution_count": 18,
   "id": "1848b39a",
   "metadata": {},
   "outputs": [
    {
     "name": "stdout",
     "output_type": "stream",
     "text": [
      "[[-4 -1  2]\n",
      " [ 4  2  4]\n",
      " [ 8  3  1]]\n"
     ]
    }
   ],
   "source": [
    "A = np.matrix('-4 -1 2; -4 -1 2; 8 3 1')\n",
    "B = np.matrix('-4 -1 2; 8 3 2; 8 3 1')\n",
    "C = A.copy()\n",
    "C[1, :] += B[1, :]\n",
    "print(C)"
   ]
  },
  {
   "cell_type": "code",
   "execution_count": 19,
   "id": "1cfe71c1",
   "metadata": {},
   "outputs": [
    {
     "name": "stdout",
     "output_type": "stream",
     "text": [
      "[[-4 -1  2]\n",
      " [-4 -1  2]\n",
      " [ 8  3  1]]\n"
     ]
    }
   ],
   "source": [
    "print(A)"
   ]
  },
  {
   "cell_type": "code",
   "execution_count": 20,
   "id": "6f38f9c3",
   "metadata": {},
   "outputs": [
    {
     "name": "stdout",
     "output_type": "stream",
     "text": [
      "[[-4 -1  2]\n",
      " [ 8  3  2]\n",
      " [ 8  3  1]]\n"
     ]
    }
   ],
   "source": [
    "print(B)"
   ]
  },
  {
   "cell_type": "code",
   "execution_count": 21,
   "id": "2630ac30",
   "metadata": {},
   "outputs": [
    {
     "data": {
      "text/plain": [
       "4.0"
      ]
     },
     "execution_count": 21,
     "metadata": {},
     "output_type": "execute_result"
    }
   ],
   "source": [
    "round(np.linalg.det(C), 3)"
   ]
  },
  {
   "cell_type": "code",
   "execution_count": 22,
   "id": "938b3fa6",
   "metadata": {},
   "outputs": [
    {
     "data": {
      "text/plain": [
       "4.0"
      ]
     },
     "execution_count": 22,
     "metadata": {},
     "output_type": "execute_result"
    }
   ],
   "source": [
    "round(np.linalg.det(A), 3) + round(np.linalg.det(B), 3)"
   ]
  },
  {
   "cell_type": "markdown",
   "id": "ae414997",
   "metadata": {},
   "source": [
    "Свойство 7. Если к элементам одной строки прибавить элементы другой строки, умноженные на одно и тоже число, то определитель матрицы не изменится:"
   ]
  },
  {
   "cell_type": "code",
   "execution_count": 23,
   "id": "74b6937d",
   "metadata": {},
   "outputs": [
    {
     "name": "stdout",
     "output_type": "stream",
     "text": [
      "[[-4 -1  2]\n",
      " [10  4 -1]\n",
      " [ 8  3  1]]\n"
     ]
    }
   ],
   "source": [
    "A = np.matrix('-4 -1 2; 10 4 -1; 8 3 1')\n",
    "k = 2\n",
    "B = A.copy()\n",
    "B[1, :] = B[1, :] + k * B[0, :]\n",
    "print(A)"
   ]
  },
  {
   "cell_type": "code",
   "execution_count": 24,
   "id": "b30ab6c6",
   "metadata": {},
   "outputs": [
    {
     "name": "stdout",
     "output_type": "stream",
     "text": [
      "[[-4 -1  2]\n",
      " [ 2  2  3]\n",
      " [ 8  3  1]]\n"
     ]
    }
   ],
   "source": [
    "print(B)"
   ]
  },
  {
   "cell_type": "code",
   "execution_count": 25,
   "id": "00522268",
   "metadata": {},
   "outputs": [
    {
     "data": {
      "text/plain": [
       "-14.0"
      ]
     },
     "execution_count": 25,
     "metadata": {},
     "output_type": "execute_result"
    }
   ],
   "source": [
    "round(np.linalg.det(A), 3)"
   ]
  },
  {
   "cell_type": "code",
   "execution_count": 26,
   "id": "78f86378",
   "metadata": {},
   "outputs": [
    {
     "data": {
      "text/plain": [
       "-14.0"
      ]
     },
     "execution_count": 26,
     "metadata": {},
     "output_type": "execute_result"
    }
   ],
   "source": [
    "round(np.linalg.det(B), 3)"
   ]
  },
  {
   "cell_type": "markdown",
   "id": "e0c17865",
   "metadata": {},
   "source": [
    "Свойство 8. Если строка или столбец матрицы является линейной комбинацией других строк (столбцов), то определитель такой матрицы равен нулю:"
   ]
  },
  {
   "cell_type": "code",
   "execution_count": 27,
   "id": "f346c559",
   "metadata": {},
   "outputs": [
    {
     "data": {
      "text/plain": [
       "0.0"
      ]
     },
     "execution_count": 27,
     "metadata": {},
     "output_type": "execute_result"
    }
   ],
   "source": [
    "k = 2\n",
    "A[1, :] = A[0, :] + k * A[2, :]\n",
    "round(np.linalg.det(A), 3)"
   ]
  },
  {
   "cell_type": "markdown",
   "id": "30a4db3c",
   "metadata": {},
   "source": [
    "Свойство 9. Если матрица содержит пропорциональные строки, то ее определитель равен нулю:"
   ]
  },
  {
   "cell_type": "code",
   "execution_count": 28,
   "id": "9d9d95f5",
   "metadata": {},
   "outputs": [
    {
     "name": "stdout",
     "output_type": "stream",
     "text": [
      "[[-4 -1  2]\n",
      " [-8 -2  4]\n",
      " [ 8  3  1]]\n"
     ]
    }
   ],
   "source": [
    "A = np.matrix('-4 -1 2; 10 4 -1; 8 3 1')\n",
    "k = 2\n",
    "A[1, :] = k * A[0, :]\n",
    "print(A)"
   ]
  },
  {
   "cell_type": "code",
   "execution_count": null,
   "id": "91a23bbf",
   "metadata": {},
   "outputs": [],
   "source": [
    "round(np.l)"
   ]
  }
 ],
 "metadata": {
  "kernelspec": {
   "display_name": "Python 3 (ipykernel)",
   "language": "python",
   "name": "python3"
  },
  "language_info": {
   "codemirror_mode": {
    "name": "ipython",
    "version": 3
   },
   "file_extension": ".py",
   "mimetype": "text/x-python",
   "name": "python",
   "nbconvert_exporter": "python",
   "pygments_lexer": "ipython3",
   "version": "3.9.7"
  }
 },
 "nbformat": 4,
 "nbformat_minor": 5
}
