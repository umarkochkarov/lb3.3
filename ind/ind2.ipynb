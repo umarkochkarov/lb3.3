{
 "cells": [
  {
   "attachments": {
    "image.png": {
     "image/png": "[encoded data removed]"
    }
   },
   "cell_type": "markdown",
   "id": "5ba4249c",
   "metadata": {},
   "source": [
    "# Индивидуальное задание 2\n",
    "![image.png](attachment:image.png)"
   ]
  },
  {
   "cell_type": "markdown",
   "id": "0c0a61d9",
   "metadata": {},
   "source": [
    "### 1) Метод Крамера"
   ]
  },
  {
   "cell_type": "code",
   "execution_count": 5,
   "id": "cc412cc1",
   "metadata": {},
   "outputs": [],
   "source": [
    "import numpy as np"
   ]
  },
  {
   "cell_type": "code",
   "execution_count": 15,
   "id": "528290b7",
   "metadata": {},
   "outputs": [
    {
     "name": "stdout",
     "output_type": "stream",
     "text": [
      "[[ 2  4 -3]\n",
      " [ 3 -1  2]\n",
      " [ 1  2  1]]\n"
     ]
    }
   ],
   "source": [
    "A = np.matrix('2 4 -3; 3 -1 2; 1 2 1')\n",
    "print(A)"
   ]
  },
  {
   "cell_type": "code",
   "execution_count": 16,
   "id": "90fe98e3",
   "metadata": {},
   "outputs": [
    {
     "name": "stdout",
     "output_type": "stream",
     "text": [
      "[[10]\n",
      " [-5]\n",
      " [ 4]]\n"
     ]
    }
   ],
   "source": [
    "B = np.matrix('10; -5; 4')\n",
    "print(B)"
   ]
  },
  {
   "cell_type": "code",
   "execution_count": 17,
   "id": "9ed52b54",
   "metadata": {},
   "outputs": [
    {
     "name": "stdout",
     "output_type": "stream",
     "text": [
      "|A| = -35.00000000000001\n"
     ]
    }
   ],
   "source": [
    "detA = np.linalg.det(A)\n",
    "print(\"|A| =\", detA)"
   ]
  },
  {
   "cell_type": "code",
   "execution_count": 18,
   "id": "943eac1f",
   "metadata": {},
   "outputs": [
    {
     "name": "stdout",
     "output_type": "stream",
     "text": [
      "Решение:\n",
      "x = -1\n",
      "y = 2\n",
      "z = 0\n"
     ]
    }
   ],
   "source": [
    "if detA != 0:\n",
    "    A_inv = np.linalg.inv(A)\n",
    "    X = A_inv.dot(B)\n",
    "    x = int(round(X[0, 0]))\n",
    "    y = int(round(X[1, 0]))\n",
    "    z = int(round(X[2, 0]))\n",
    "    print(\"Решение:\")\n",
    "    print(f\"x = {x}\")\n",
    "    print(f\"y = {y}\")\n",
    "    print(f\"z = {z}\")"
   ]
  },
  {
   "cell_type": "code",
   "execution_count": 47,
   "id": "71ccd16b",
   "metadata": {},
   "outputs": [
    {
     "name": "stdout",
     "output_type": "stream",
     "text": [
      "Проверка: 5*-1 + -1*2 + -1*0 = 0\n",
      "Проверка не пройдена\n"
     ]
    }
   ],
   "source": [
    "result = A.dot(X)\n",
    "print(\"Проверка: {}*{} + {}*{} + {}*{} = {}\".format(A[0,0], x, A[0,1], y, A[0,2], z, B[0,0]))\n",
    "if np.allclose(result, B):\n",
    "    print(\"Проверка пройдена\")\n",
    "else:\n",
    "    print(\"Проверка не пройдена\")"
   ]
  },
  {
   "cell_type": "markdown",
   "id": "e62f9b51",
   "metadata": {},
   "source": [
    "### 2) Матричный метод"
   ]
  },
  {
   "cell_type": "code",
   "execution_count": 25,
   "id": "76ff9585",
   "metadata": {},
   "outputs": [],
   "source": [
    "a1 = [5, 1, 4]\n",
    "a2 = [-1, 2, 3]\n",
    "a3 = [-1, 3, 2]\n",
    "b = [0, 4, 16]"
   ]
  },
  {
   "cell_type": "code",
   "execution_count": 26,
   "id": "d67625fb",
   "metadata": {},
   "outputs": [
    {
     "name": "stdout",
     "output_type": "stream",
     "text": [
      "[[ 5 -1 -1]\n",
      " [ 1  2  3]\n",
      " [ 4  3  2]]\n"
     ]
    }
   ],
   "source": [
    "A = np.transpose(np.matrix([a1, a2, a3]))\n",
    "print(A)"
   ]
  },
  {
   "cell_type": "code",
   "execution_count": 27,
   "id": "afa975d4",
   "metadata": {},
   "outputs": [
    {
     "name": "stdout",
     "output_type": "stream",
     "text": [
      "[[ 0]\n",
      " [ 4]\n",
      " [16]]\n"
     ]
    }
   ],
   "source": [
    "B = np.transpose(np.matrix([b]))\n",
    "print(B)"
   ]
  },
  {
   "cell_type": "code",
   "execution_count": 28,
   "id": "39bd60c8",
   "metadata": {},
   "outputs": [
    {
     "name": "stdout",
     "output_type": "stream",
     "text": [
      "|A| = -30\n"
     ]
    }
   ],
   "source": [
    "A_det = round(np.linalg.det(A))\n",
    "print(f\"|A| = {A_det}\")"
   ]
  },
  {
   "cell_type": "code",
   "execution_count": 29,
   "id": "d3e01fd6",
   "metadata": {},
   "outputs": [],
   "source": [
    "if A_det != 0:\n",
    "    X = []\n",
    "    for i in range(A.shape[1]):\n",
    "        A_temp = A.copy()\n",
    "        A_temp[:, i] = B\n",
    "        X.append(round(np.linalg.det(A_temp) / A_det))"
   ]
  },
  {
   "cell_type": "code",
   "execution_count": 48,
   "id": "dc85a205",
   "metadata": {},
   "outputs": [
    {
     "name": "stdout",
     "output_type": "stream",
     "text": [
      "Решение:\n",
      "x = 1\n",
      "y = 7\n",
      "z = -3\n"
     ]
    }
   ],
   "source": [
    "print(\"Решение:\")\n",
    "for i, var in enumerate([\"x\", \"y\", \"z\"]):\n",
    "    print(f\"{var} = {X[i]}\")"
   ]
  },
  {
   "cell_type": "code",
   "execution_count": null,
   "id": "b7242b24",
   "metadata": {},
   "outputs": [],
   "source": []
  },
  {
   "cell_type": "code",
   "execution_count": null,
   "id": "d693494b",
   "metadata": {},
   "outputs": [],
   "source": []
  }
 ],
 "metadata": {
  "kernelspec": {
   "display_name": "Python 3 (ipykernel)",
   "language": "python",
   "name": "python3"
  },
  "language_info": {
   "codemirror_mode": {
    "name": "ipython",
    "version": 3
   },
   "file_extension": ".py",
   "mimetype": "text/x-python",
   "name": "python",
   "nbconvert_exporter": "python",
   "pygments_lexer": "ipython3",
   "version": "3.9.13"
  }
 },
 "nbformat": 4,
 "nbformat_minor": 5
}
